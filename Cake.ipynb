{
 "cells": [
  {
   "cell_type": "code",
   "execution_count": 4,
   "id": "3a4dbe8a-7d2a-4e74-a478-b7387313622b",
   "metadata": {},
   "outputs": [
    {
     "name": "stdout",
     "output_type": "stream",
     "text": [
      "\n",
      "    (1)\n",
      "   (000)\n",
      "  (~~~~~)\n",
      " (0000000)\n",
      "(~~~~~~~~~)\n",
      "-------------\n",
      "\n"
     ]
    }
   ],
   "source": [
    "#Birthday cake!\n",
    "#put in age\n",
    "age = 1\n",
    "#Do not touch\n",
    "cake = f\"\"\"\n",
    "    ({age})\n",
    "   (000)\n",
    "  (~~~~~)\n",
    " (0000000)\n",
    "(~~~~~~~~~)\n",
    "-------------\n",
    "\"\"\"\n",
    "print (cake)"
   ]
  }
 ],
 "metadata": {
  "kernelspec": {
   "display_name": "Python 3 (ipykernel)",
   "language": "python",
   "name": "python3"
  },
  "language_info": {
   "codemirror_mode": {
    "name": "ipython",
    "version": 3
   },
   "file_extension": ".py",
   "mimetype": "text/x-python",
   "name": "python",
   "nbconvert_exporter": "python",
   "pygments_lexer": "ipython3",
   "version": "3.9.12"
  }
 },
 "nbformat": 4,
 "nbformat_minor": 5
}
